{
 "cells": [
  {
   "cell_type": "code",
   "execution_count": 1,
   "metadata": {},
   "outputs": [],
   "source": [
    "import numpy as np\n",
    "import pandas as pd\n",
    "import matplotlib.pyplot as plt\n",
    "from sklearn.model_selection import train_test_split"
   ]
  },
  {
   "cell_type": "code",
   "execution_count": 2,
   "metadata": {},
   "outputs": [],
   "source": [
    "data=pd.read_excel('SADCQ.xlsx')"
   ]
  },
  {
   "cell_type": "code",
   "execution_count": 3,
   "metadata": {},
   "outputs": [],
   "source": [
    "data_dropped=pd.DataFrame(data.drop(['qbikehelmet','qdrivemarijuana','qcelldriving','qpropertydamage','qbullyweight','qbullygender','qbullygay','qchokeself','qcigschool','qchewtobschool','qalcoholschool','qtypealcohol','qhowmarijuana','qmarijuanaschool','qcurrentcocaine','qcurrentheroin','qcurrentmeth','qhallucdrug','qprescription30d','qgenderexp','qtaughtHIV','qtaughtsexed','qtaughtstd','qtaughtcondom','qsportsdrink','qenergydrink','qsugardrink','qwater','qfastfood','qfoodallergy','qtaughtbc','qdietpop','qcoffeetea','sitename','sitecode','sitetype','qwenthungry','qsunscreenuse','qindoortanning','qsunburn','qconcentrating','qcurrentasthma','qwheresleep','qspeakenglish','qtransgender','sitetypenum','year','survyear','PSU','stratum','record'],axis=1))"
   ]
  },
  {
   "cell_type": "code",
   "execution_count": 26,
   "metadata": {},
   "outputs": [
    {
     "data": {
      "text/html": [
       "<div>\n",
       "<style scoped>\n",
       "    .dataframe tbody tr th:only-of-type {\n",
       "        vertical-align: middle;\n",
       "    }\n",
       "\n",
       "    .dataframe tbody tr th {\n",
       "        vertical-align: top;\n",
       "    }\n",
       "\n",
       "    .dataframe thead th {\n",
       "        text-align: right;\n",
       "    }\n",
       "</style>\n",
       "<table border=\"1\" class=\"dataframe\">\n",
       "  <thead>\n",
       "    <tr style=\"text-align: right;\">\n",
       "      <th></th>\n",
       "      <th>weight</th>\n",
       "      <th>age</th>\n",
       "      <th>sex</th>\n",
       "      <th>grade</th>\n",
       "      <th>race4</th>\n",
       "      <th>race7</th>\n",
       "      <th>stheight</th>\n",
       "      <th>stweight</th>\n",
       "      <th>bmi</th>\n",
       "      <th>bmipct</th>\n",
       "      <th>...</th>\n",
       "      <th>q81</th>\n",
       "      <th>q82</th>\n",
       "      <th>q83</th>\n",
       "      <th>q84</th>\n",
       "      <th>q85</th>\n",
       "      <th>q86</th>\n",
       "      <th>q87</th>\n",
       "      <th>q88</th>\n",
       "      <th>q89</th>\n",
       "      <th>qmusclestrength</th>\n",
       "    </tr>\n",
       "  </thead>\n",
       "  <tbody>\n",
       "    <tr>\n",
       "      <th>0</th>\n",
       "      <td>1.3041</td>\n",
       "      <td>5.0</td>\n",
       "      <td>2.0</td>\n",
       "      <td>3.0</td>\n",
       "      <td>1.0</td>\n",
       "      <td>6.0</td>\n",
       "      <td>1.70</td>\n",
       "      <td>52.16</td>\n",
       "      <td>18.048443</td>\n",
       "      <td>10.333861</td>\n",
       "      <td>...</td>\n",
       "      <td>4.0</td>\n",
       "      <td>4.0</td>\n",
       "      <td>4.0</td>\n",
       "      <td>1.0</td>\n",
       "      <td>2.0</td>\n",
       "      <td>1.0</td>\n",
       "      <td>2.0</td>\n",
       "      <td>4.0</td>\n",
       "      <td>2.0</td>\n",
       "      <td>4.0</td>\n",
       "    </tr>\n",
       "    <tr>\n",
       "      <th>1</th>\n",
       "      <td>0.2672</td>\n",
       "      <td>5.0</td>\n",
       "      <td>2.0</td>\n",
       "      <td>2.0</td>\n",
       "      <td>2.0</td>\n",
       "      <td>3.0</td>\n",
       "      <td>1.85</td>\n",
       "      <td>104.33</td>\n",
       "      <td>30.483565</td>\n",
       "      <td>97.657096</td>\n",
       "      <td>...</td>\n",
       "      <td>7.0</td>\n",
       "      <td>4.0</td>\n",
       "      <td>1.0</td>\n",
       "      <td>3.0</td>\n",
       "      <td>2.0</td>\n",
       "      <td>2.0</td>\n",
       "      <td>2.0</td>\n",
       "      <td>3.0</td>\n",
       "      <td>3.0</td>\n",
       "      <td>4.0</td>\n",
       "    </tr>\n",
       "    <tr>\n",
       "      <th>2</th>\n",
       "      <td>0.7263</td>\n",
       "      <td>5.0</td>\n",
       "      <td>2.0</td>\n",
       "      <td>2.0</td>\n",
       "      <td>4.0</td>\n",
       "      <td>2.0</td>\n",
       "      <td>1.75</td>\n",
       "      <td>44.91</td>\n",
       "      <td>14.664490</td>\n",
       "      <td>0.006242</td>\n",
       "      <td>...</td>\n",
       "      <td>7.0</td>\n",
       "      <td>6.0</td>\n",
       "      <td>1.0</td>\n",
       "      <td>1.0</td>\n",
       "      <td>2.0</td>\n",
       "      <td>5.0</td>\n",
       "      <td>2.0</td>\n",
       "      <td>5.0</td>\n",
       "      <td>7.0</td>\n",
       "      <td>4.0</td>\n",
       "    </tr>\n",
       "    <tr>\n",
       "      <th>3</th>\n",
       "      <td>0.3991</td>\n",
       "      <td>5.0</td>\n",
       "      <td>2.0</td>\n",
       "      <td>3.0</td>\n",
       "      <td>4.0</td>\n",
       "      <td>7.0</td>\n",
       "      <td>1.68</td>\n",
       "      <td>58.97</td>\n",
       "      <td>20.893566</td>\n",
       "      <td>50.274471</td>\n",
       "      <td>...</td>\n",
       "      <td>7.0</td>\n",
       "      <td>1.0</td>\n",
       "      <td>1.0</td>\n",
       "      <td>1.0</td>\n",
       "      <td>2.0</td>\n",
       "      <td>5.0</td>\n",
       "      <td>3.0</td>\n",
       "      <td>4.0</td>\n",
       "      <td>2.0</td>\n",
       "      <td>4.0</td>\n",
       "    </tr>\n",
       "    <tr>\n",
       "      <th>4</th>\n",
       "      <td>0.3695</td>\n",
       "      <td>5.0</td>\n",
       "      <td>2.0</td>\n",
       "      <td>3.0</td>\n",
       "      <td>3.0</td>\n",
       "      <td>4.0</td>\n",
       "      <td>NaN</td>\n",
       "      <td>NaN</td>\n",
       "      <td>NaN</td>\n",
       "      <td>NaN</td>\n",
       "      <td>...</td>\n",
       "      <td>4.0</td>\n",
       "      <td>6.0</td>\n",
       "      <td>1.0</td>\n",
       "      <td>1.0</td>\n",
       "      <td>2.0</td>\n",
       "      <td>1.0</td>\n",
       "      <td>2.0</td>\n",
       "      <td>4.0</td>\n",
       "      <td>3.0</td>\n",
       "      <td>8.0</td>\n",
       "    </tr>\n",
       "  </tbody>\n",
       "</table>\n",
       "<p>5 rows × 99 columns</p>\n",
       "</div>"
      ],
      "text/plain": [
       "   weight  age  sex  grade  race4  race7  stheight  stweight        bmi  \\\n",
       "0  1.3041  5.0  2.0    3.0    1.0    6.0      1.70     52.16  18.048443   \n",
       "1  0.2672  5.0  2.0    2.0    2.0    3.0      1.85    104.33  30.483565   \n",
       "2  0.7263  5.0  2.0    2.0    4.0    2.0      1.75     44.91  14.664490   \n",
       "3  0.3991  5.0  2.0    3.0    4.0    7.0      1.68     58.97  20.893566   \n",
       "4  0.3695  5.0  2.0    3.0    3.0    4.0       NaN       NaN        NaN   \n",
       "\n",
       "      bmipct       ...         q81  q82  q83  q84  q85  q86  q87  q88  q89  \\\n",
       "0  10.333861       ...         4.0  4.0  4.0  1.0  2.0  1.0  2.0  4.0  2.0   \n",
       "1  97.657096       ...         7.0  4.0  1.0  3.0  2.0  2.0  2.0  3.0  3.0   \n",
       "2   0.006242       ...         7.0  6.0  1.0  1.0  2.0  5.0  2.0  5.0  7.0   \n",
       "3  50.274471       ...         7.0  1.0  1.0  1.0  2.0  5.0  3.0  4.0  2.0   \n",
       "4        NaN       ...         4.0  6.0  1.0  1.0  2.0  1.0  2.0  4.0  3.0   \n",
       "\n",
       "   qmusclestrength  \n",
       "0              4.0  \n",
       "1              4.0  \n",
       "2              4.0  \n",
       "3              4.0  \n",
       "4              8.0  \n",
       "\n",
       "[5 rows x 99 columns]"
      ]
     },
     "execution_count": 26,
     "metadata": {},
     "output_type": "execute_result"
    }
   ],
   "source": [
    "data_dropped.head()"
   ]
  },
  {
   "cell_type": "code",
   "execution_count": 5,
   "metadata": {},
   "outputs": [
    {
     "data": {
      "text/plain": [
       "<matplotlib.axes._subplots.AxesSubplot at 0x25a0efd0>"
      ]
     },
     "execution_count": 5,
     "metadata": {},
     "output_type": "execute_result"
    },
    {
     "data": {
      "image/png": "[encoded data removed]",
      "text/plain": [
       "<Figure size 720x720 with 1 Axes>"
      ]
     },
     "metadata": {},
     "output_type": "display_data"
    }
   ],
   "source": [
    "data_dropped['qnobese'].value_counts().plot(kind='bar', color='lightblue',figsize=(10,10))"
   ]
  },
  {
   "cell_type": "code",
   "execution_count": 6,
   "metadata": {},
   "outputs": [],
   "source": [
    "Y=data_dropped['qnobese'].fillna(1)\n"
   ]
  },
  {
   "cell_type": "code",
   "execution_count": 7,
   "metadata": {},
   "outputs": [],
   "source": [
    "X=data_dropped.drop(['qnobese'],axis=1)\n",
    "X.fillna(X.mean(),inplace=True)"
   ]
  },
  {
   "cell_type": "code",
   "execution_count": 8,
   "metadata": {},
   "outputs": [
    {
     "data": {
      "text/plain": [
       "2.0    118906\n",
       "1.0     84757\n",
       "Name: qnobese, dtype: int64"
      ]
     },
     "execution_count": 8,
     "metadata": {},
     "output_type": "execute_result"
    }
   ],
   "source": [
    "Y.value_counts()"
   ]
  },
  {
   "cell_type": "code",
   "execution_count": 9,
   "metadata": {},
   "outputs": [],
   "source": [
    "from sklearn.preprocessing import MinMaxScaler"
   ]
  },
  {
   "cell_type": "code",
   "execution_count": 10,
   "metadata": {},
   "outputs": [],
   "source": [
    "Y=Y.values"
   ]
  },
  {
   "cell_type": "code",
   "execution_count": 11,
   "metadata": {},
   "outputs": [],
   "source": [
    "Y=Y.reshape(-1,1)"
   ]
  },
  {
   "cell_type": "code",
   "execution_count": 12,
   "metadata": {},
   "outputs": [],
   "source": [
    "scaler = MinMaxScaler()\n",
    "x = scaler.fit_transform(X)\n",
    "y = scaler.fit_transform(Y)\n"
   ]
  },
  {
   "cell_type": "code",
   "execution_count": 13,
   "metadata": {},
   "outputs": [],
   "source": [
    "from sklearn.decomposition import PCA"
   ]
  },
  {
   "cell_type": "code",
   "execution_count": 14,
   "metadata": {},
   "outputs": [],
   "source": [
    "pca = PCA()  \n",
    "features = pca.fit_transform(x)\n",
    "explained_variance = pca.explained_variance_ratio_\n",
    "explained_variance\n",
    "pca = PCA(n_components=10)  \n",
    "features = pca.fit_transform(features)\n"
   ]
  },
  {
   "cell_type": "code",
   "execution_count": 16,
   "metadata": {},
   "outputs": [
    {
     "name": "stderr",
     "output_type": "stream",
     "text": [
      "C:\\ProgramData\\Anaconda3\\lib\\site-packages\\h5py\\__init__.py:36: FutureWarning: Conversion of the second argument of issubdtype from `float` to `np.floating` is deprecated. In future, it will be treated as `np.float64 == np.dtype(float).type`.\n",
      "  from ._conv import register_converters as _register_converters\n",
      "Using TensorFlow backend.\n"
     ]
    }
   ],
   "source": [
    "from keras.utils import to_categorical"
   ]
  },
  {
   "cell_type": "code",
   "execution_count": 17,
   "metadata": {},
   "outputs": [],
   "source": [
    "target = to_categorical(y)"
   ]
  },
  {
   "cell_type": "code",
   "execution_count": 18,
   "metadata": {},
   "outputs": [],
   "source": [
    "xtrain,xtest,ytrain,ytest=train_test_split(features,target,test_size=0.3)\n"
   ]
  },
  {
   "cell_type": "code",
   "execution_count": 19,
   "metadata": {},
   "outputs": [],
   "source": [
    "import tensorflow as tf\n",
    "import keras\n",
    "from keras.models import Sequential\n",
    "from keras.layers import Dense, Dropout, Activation\n",
    "from keras.optimizers import SGD"
   ]
  },
  {
   "cell_type": "code",
   "execution_count": 20,
   "metadata": {},
   "outputs": [
    {
     "data": {
      "text/plain": [
       "array([[0., 1.],\n",
       "       [1., 0.],\n",
       "       [0., 1.],\n",
       "       ...,\n",
       "       [1., 0.],\n",
       "       [0., 1.],\n",
       "       [1., 0.]], dtype=float32)"
      ]
     },
     "execution_count": 20,
     "metadata": {},
     "output_type": "execute_result"
    }
   ],
   "source": [
    "target"
   ]
  },
  {
   "cell_type": "code",
   "execution_count": 21,
   "metadata": {},
   "outputs": [],
   "source": [
    "model = keras.Sequential([\n",
    "    keras.layers.Dense(106, activation=tf.nn.relu,\n",
    "                       input_shape=(xtrain.shape[1],)),\n",
    "    keras.layers.Dense(64, activation=tf.nn.relu),\n",
    "    keras.layers.Dense(31, activation=tf.nn.relu),\n",
    "    keras.layers.Dense(2, activation=tf.nn.softmax)\n",
    "])"
   ]
  },
  {
   "cell_type": "code",
   "execution_count": 22,
   "metadata": {},
   "outputs": [],
   "source": [
    "sgd = SGD(lr=0.01, decay=1e-6, momentum=0.9, nesterov=True)\n",
    "model.compile(loss='categorical_crossentropy',\n",
    "              optimizer=sgd,\n",
    "              metrics=['accuracy'])"
   ]
  },
  {
   "cell_type": "code",
   "execution_count": 23,
   "metadata": {},
   "outputs": [
    {
     "name": "stdout",
     "output_type": "stream",
     "text": [
      "Train on 114051 samples, validate on 28513 samples\n",
      "Epoch 1/30\n",
      " - 5s - loss: 0.4426 - acc: 0.7865 - val_loss: 0.3247 - val_acc: 0.8662\n",
      "Epoch 2/30\n",
      " - 5s - loss: 0.3185 - acc: 0.8669 - val_loss: 0.3180 - val_acc: 0.8690\n",
      "Epoch 3/30\n",
      " - 5s - loss: 0.3030 - acc: 0.8743 - val_loss: 0.3063 - val_acc: 0.8721\n",
      "Epoch 4/30\n",
      " - 5s - loss: 0.2937 - acc: 0.8785 - val_loss: 0.2992 - val_acc: 0.8767\n",
      "Epoch 5/30\n",
      " - 5s - loss: 0.2868 - acc: 0.8822 - val_loss: 0.2863 - val_acc: 0.8821\n",
      "Epoch 6/30\n",
      " - 6s - loss: 0.2821 - acc: 0.8838 - val_loss: 0.2744 - val_acc: 0.8870\n",
      "Epoch 7/30\n",
      " - 6s - loss: 0.2757 - acc: 0.8870 - val_loss: 0.2862 - val_acc: 0.8833\n",
      "Epoch 8/30\n",
      " - 6s - loss: 0.2729 - acc: 0.8868 - val_loss: 0.2708 - val_acc: 0.8902\n",
      "Epoch 9/30\n",
      " - 6s - loss: 0.2685 - acc: 0.8884 - val_loss: 0.2623 - val_acc: 0.8908\n",
      "Epoch 10/30\n",
      " - 6s - loss: 0.2664 - acc: 0.8895 - val_loss: 0.2662 - val_acc: 0.8910\n",
      "Epoch 11/30\n",
      " - 5s - loss: 0.2625 - acc: 0.8909 - val_loss: 0.2572 - val_acc: 0.8939\n",
      "Epoch 12/30\n",
      " - 5s - loss: 0.2612 - acc: 0.8911 - val_loss: 0.2627 - val_acc: 0.8915\n",
      "Epoch 13/30\n",
      " - 5s - loss: 0.2586 - acc: 0.8931 - val_loss: 0.2665 - val_acc: 0.8899\n",
      "Epoch 14/30\n",
      " - 5s - loss: 0.2576 - acc: 0.8931 - val_loss: 0.2641 - val_acc: 0.8917\n",
      "Epoch 15/30\n",
      " - 5s - loss: 0.2546 - acc: 0.8943 - val_loss: 0.2569 - val_acc: 0.8930\n",
      "Epoch 16/30\n",
      " - 5s - loss: 0.2539 - acc: 0.8948 - val_loss: 0.2540 - val_acc: 0.8952\n",
      "Epoch 17/30\n",
      " - 5s - loss: 0.2514 - acc: 0.8962 - val_loss: 0.2539 - val_acc: 0.8943\n",
      "Epoch 18/30\n",
      " - 5s - loss: 0.2503 - acc: 0.8968 - val_loss: 0.2557 - val_acc: 0.8948\n",
      "Epoch 19/30\n",
      " - 5s - loss: 0.2494 - acc: 0.8970 - val_loss: 0.2532 - val_acc: 0.8942\n",
      "Epoch 20/30\n",
      " - 5s - loss: 0.2479 - acc: 0.8978 - val_loss: 0.2574 - val_acc: 0.8932\n",
      "Epoch 21/30\n",
      " - 5s - loss: 0.2470 - acc: 0.8975 - val_loss: 0.2638 - val_acc: 0.8925\n",
      "Epoch 22/30\n",
      " - 5s - loss: 0.2451 - acc: 0.8986 - val_loss: 0.2537 - val_acc: 0.8963\n",
      "Epoch 23/30\n",
      " - 6s - loss: 0.2447 - acc: 0.8995 - val_loss: 0.2538 - val_acc: 0.8954\n",
      "Epoch 24/30\n",
      " - 5s - loss: 0.2438 - acc: 0.8991 - val_loss: 0.2469 - val_acc: 0.8977\n",
      "Epoch 25/30\n",
      " - 5s - loss: 0.2426 - acc: 0.8997 - val_loss: 0.2505 - val_acc: 0.8974\n",
      "Epoch 26/30\n",
      " - 5s - loss: 0.2409 - acc: 0.9007 - val_loss: 0.2489 - val_acc: 0.8978\n",
      "Epoch 27/30\n",
      " - 5s - loss: 0.2398 - acc: 0.9003 - val_loss: 0.2477 - val_acc: 0.8982\n",
      "Epoch 28/30\n",
      " - 6s - loss: 0.2396 - acc: 0.9013 - val_loss: 0.2591 - val_acc: 0.8938\n",
      "Epoch 29/30\n",
      " - 6s - loss: 0.2386 - acc: 0.9016 - val_loss: 0.2478 - val_acc: 0.8973\n",
      "Epoch 30/30\n",
      " - 6s - loss: 0.2378 - acc: 0.9015 - val_loss: 0.2507 - val_acc: 0.8955\n"
     ]
    }
   ],
   "source": [
    "history= model.fit(xtrain, ytrain, epochs=30, validation_split=0.2, verbose=2)"
   ]
  },
  {
   "cell_type": "code",
   "execution_count": 24,
   "metadata": {},
   "outputs": [
    {
     "name": "stdout",
     "output_type": "stream",
     "text": [
      "Epoch 1/20\n",
      "61099/61099 [==============================] - 3s 47us/step - loss: 0.2542 - acc: 0.8951\n",
      "Epoch 2/20\n",
      "61099/61099 [==============================] - 3s 43us/step - loss: 0.2476 - acc: 0.8980\n",
      "Epoch 3/20\n",
      "61099/61099 [==============================] - 3s 41us/step - loss: 0.2455 - acc: 0.8987\n",
      "Epoch 4/20\n",
      "61099/61099 [==============================] - 3s 52us/step - loss: 0.2433 - acc: 0.9001\n",
      "Epoch 5/20\n",
      "61099/61099 [==============================] - 3s 46us/step - loss: 0.2419 - acc: 0.9000\n",
      "Epoch 6/20\n",
      "61099/61099 [==============================] - 3s 49us/step - loss: 0.2411 - acc: 0.9005\n",
      "Epoch 7/20\n",
      "61099/61099 [==============================] - 4s 59us/step - loss: 0.2395 - acc: 0.9014\n",
      "Epoch 8/20\n",
      "61099/61099 [==============================] - 3s 56us/step - loss: 0.2383 - acc: 0.9019\n",
      "Epoch 9/20\n",
      "61099/61099 [==============================] - 3s 47us/step - loss: 0.2378 - acc: 0.9017\n",
      "Epoch 10/20\n",
      "61099/61099 [==============================] - 4s 65us/step - loss: 0.2365 - acc: 0.9025\n",
      "Epoch 11/20\n",
      "61099/61099 [==============================] - 3s 45us/step - loss: 0.2367 - acc: 0.9022\n",
      "Epoch 12/20\n",
      "61099/61099 [==============================] - 3s 46us/step - loss: 0.2350 - acc: 0.9035\n",
      "Epoch 13/20\n",
      "61099/61099 [==============================] - 3s 46us/step - loss: 0.2333 - acc: 0.9034\n",
      "Epoch 14/20\n",
      "61099/61099 [==============================] - 3s 45us/step - loss: 0.2332 - acc: 0.9043\n",
      "Epoch 15/20\n",
      "61099/61099 [==============================] - 3s 46us/step - loss: 0.2322 - acc: 0.9035\n",
      "Epoch 16/20\n",
      "61099/61099 [==============================] - 3s 41us/step - loss: 0.2317 - acc: 0.9041\n",
      "Epoch 17/20\n",
      "61099/61099 [==============================] - 3s 42us/step - loss: 0.2305 - acc: 0.9048\n",
      "Epoch 18/20\n",
      "61099/61099 [==============================] - 3s 45us/step - loss: 0.2302 - acc: 0.9056\n",
      "Epoch 19/20\n",
      "61099/61099 [==============================] - 3s 44us/step - loss: 0.2286 - acc: 0.9051\n",
      "Epoch 20/20\n",
      "61099/61099 [==============================] - 2s 41us/step - loss: 0.2290 - acc: 0.9055\n"
     ]
    },
    {
     "data": {
      "text/plain": [
       "<keras.callbacks.History at 0x5678ccf8>"
      ]
     },
     "execution_count": 24,
     "metadata": {},
     "output_type": "execute_result"
    }
   ],
   "source": [
    "model.fit(xtest,ytest,epochs=20)"
   ]
  },
  {
   "cell_type": "code",
   "execution_count": 25,
   "metadata": {},
   "outputs": [
    {
     "data": {
      "text/plain": [
       "[<matplotlib.lines.Line2D at 0x2001d320>]"
      ]
     },
     "execution_count": 25,
     "metadata": {},
     "output_type": "execute_result"
    },
    {
     "data": {
      "image/png": "[encoded data removed]",
      "text/plain": [
       "<Figure size 432x288 with 1 Axes>"
      ]
     },
     "metadata": {},
     "output_type": "display_data"
    }
   ],
   "source": [
    "\n",
    "plt.plot(history.epoch, history.history['loss'], 'g')\n",
    "plt.plot(history.epoch, history.history['val_loss'],'r')"
   ]
  },
  {
   "cell_type": "code",
   "execution_count": null,
   "metadata": {},
   "outputs": [],
   "source": []
  }
 ],
 "metadata": {
  "kernelspec": {
   "display_name": "Python 3",
   "language": "python",
   "name": "python3"
  },
  "language_info": {
   "codemirror_mode": {
    "name": "ipython",
    "version": 3
   },
   "file_extension": ".py",
   "mimetype": "text/x-python",
   "name": "python",
   "nbconvert_exporter": "python",
   "pygments_lexer": "ipython3",
   "version": "3.6.5"
  }
 },
 "nbformat": 4,
 "nbformat_minor": 2
}
